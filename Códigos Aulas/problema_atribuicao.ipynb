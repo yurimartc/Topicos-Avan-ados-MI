{
 "metadata": {
  "language_info": {
   "codemirror_mode": {
    "name": "ipython",
    "version": 3
   },
   "file_extension": ".py",
   "mimetype": "text/x-python",
   "name": "python",
   "nbconvert_exporter": "python",
   "pygments_lexer": "ipython3",
   "version": "3.8.3-final"
  },
  "orig_nbformat": 2,
  "kernelspec": {
   "name": "python3",
   "display_name": "Python 3",
   "language": "python"
  }
 },
 "nbformat": 4,
 "nbformat_minor": 2,
 "cells": [
  {
   "cell_type": "code",
   "execution_count": 1,
   "metadata": {},
   "outputs": [],
   "source": [
    "# Importando bibiotecas\n",
    "import gurobipy as gb"
   ]
  },
  {
   "cell_type": "code",
   "execution_count": 3,
   "metadata": {},
   "outputs": [],
   "source": [
    "# Definindo dados\n",
    "\n",
    "#   Conjuntos: recursos e trabalhos\n",
    "I = ['Carlos', 'Jonas', 'Monica']\n",
    "J = ['Cientista', 'Desenvolvedor', 'Arquiteto']\n",
    "\n",
    "#   Matriz percentual\n",
    "#   (multidicionárrio)\n",
    "key, perc = gb.multidict({\n",
    "    ('Carlos', 'Cientista'): 53,\n",
    "    ('Carlos', 'Desenvolvedor'): 27,\n",
    "    ('Carlos', 'Arquiteto'): 13,\n",
    "    ('Jonas', 'Cientista'): 80,\n",
    "    ('Jonas', 'Desenvolvedor'): 47,\n",
    "    ('Jonas', 'Arquiteto'): 67,\n",
    "    ('Monica', 'Cientista'): 53,\n",
    "    ('Monica', 'Desenvolvedor'): 73,\n",
    "    ('Monica', 'Arquiteto'): 47,\n",
    "})"
   ]
  },
  {
   "cell_type": "code",
   "execution_count": 15,
   "metadata": {},
   "outputs": [],
   "source": [
    "# Definindo Modelo\n",
    "m = gb.Model(\"Atribuicao\")\n",
    "\n",
    "# Adicionando variaveis\n",
    "x = m.addVars(key, vtype=gb.GRB.BINARY, name='x')\n",
    "m.update()\n",
    "# Adicionando Restrições\n",
    "\n",
    "#   Trabalho\n",
    "trabalho = m.addConstrs((x.sum('*', j) == 1 for j in J), 'trabalho')\n",
    "m.update()\n",
    "#   Pessoa\n",
    "pessoa = m.addConstrs((x.sum(i, '*') <= 1 for i in I), 'pessoa')\n",
    "m.update()\n",
    "# Definindo a função objetivo\n",
    "m.setObjective(x.prod(perc), gb.GRB.MAXIMIZE)\n",
    "\n",
    "m.update()"
   ]
  },
  {
   "cell_type": "code",
   "execution_count": 17,
   "metadata": {},
   "outputs": [],
   "source": [
    "m.write('atribuicao.lp')"
   ]
  },
  {
   "cell_type": "code",
   "execution_count": 19,
   "metadata": {},
   "outputs": [
    {
     "output_type": "stream",
     "name": "stdout",
     "text": [
      "Gurobi Optimizer version 9.1.0 build v9.1.0rc0 (win64)\n",
      "Thread count: 4 physical cores, 8 logical processors, using up to 8 threads\n",
      "Optimize a model with 6 rows, 9 columns and 18 nonzeros\n",
      "Model fingerprint: 0x8e59071a\n",
      "Variable types: 0 continuous, 9 integer (9 binary)\n",
      "Coefficient statistics:\n",
      "  Matrix range     [1e+00, 1e+00]\n",
      "  Objective range  [1e+01, 8e+01]\n",
      "  Bounds range     [1e+00, 1e+00]\n",
      "  RHS range        [1e+00, 1e+00]\n",
      "Presolved: 6 rows, 9 columns, 18 nonzeros\n",
      "\n",
      "Continuing optimization...\n",
      "\n",
      "\n",
      "Explored 0 nodes (0 simplex iterations) in 0.02 seconds\n",
      "Thread count was 8 (of 8 available processors)\n",
      "\n",
      "Solution count 1: 193 \n",
      "\n",
      "Optimal solution found (tolerance 1.00e-04)\n",
      "Best objective 1.930000000000e+02, best bound 1.930000000000e+02, gap 0.0000%\n",
      "\n",
      "    Variable            x \n",
      "-------------------------\n",
      "x[Carlos,Cientista]            1 \n",
      "x[Jonas,Arquiteto]            1 \n",
      "x[Monica,Desenvolvedor]            1 \n"
     ]
    },
    {
     "output_type": "execute_result",
     "data": {
      "text/plain": [
       "193.0"
      ]
     },
     "metadata": {},
     "execution_count": 19
    }
   ],
   "source": [
    "# Resolvendo o problema\n",
    "m.optimize()\n",
    "\n",
    "# Imprimindo as soluções\n",
    "m.printAttr('x')\n",
    "\n",
    "# Imprimindo o valor da função Objetivo\n",
    "m.objVal"
   ]
  },
  {
   "cell_type": "code",
   "execution_count": 21,
   "metadata": {},
   "outputs": [
    {
     "output_type": "stream",
     "name": "stdout",
     "text": [
      "x[Carlos,Cientista] = 1.0\nx[Jonas,Arquiteto] = 1.0\nx[Monica,Desenvolvedor] = 1.0\n"
     ]
    }
   ],
   "source": [
    "# Imprimindo solucao\n",
    "for var in m.getVars():\n",
    "    if abs(var.x) > 1e-6:\n",
    "        print(var.varName, '=', var.x)"
   ]
  },
  {
   "cell_type": "code",
   "execution_count": 34,
   "metadata": {},
   "outputs": [
    {
     "output_type": "execute_result",
     "data": {
      "text/plain": [
       "<gurobi.Constr *Awaiting Model Update*>"
      ]
     },
     "metadata": {},
     "execution_count": 34
    }
   ],
   "source": [
    "# Adicionando um novo canditado (Novo  cenário). \n",
    "nperc = {('Ana', 'Cientista'): 100,\n",
    "         ('Ana', 'Desenvolvedor'): 100,\n",
    "         ('Ana', 'Arquiteto'): 100}\n",
    "\n",
    "for key, val in nperc.items():\n",
    "    i, j = key\n",
    "    x[key] = m.addVar(obj=val, \n",
    "                      name='x[{0}, {1}]'.format(i, j),\n",
    "                      column=gb.Column([1], [m.getConstrByName('trabalho[{0}]'.format(j))])\n",
    "                      )\n",
    "m.addConstr(x.sum('Ana', '*') <= 1, name='pessoa[Ana]')"
   ]
  },
  {
   "cell_type": "code",
   "execution_count": 35,
   "metadata": {},
   "outputs": [],
   "source": [
    "m.update()"
   ]
  },
  {
   "cell_type": "code",
   "execution_count": 37,
   "metadata": {},
   "outputs": [
    {
     "output_type": "stream",
     "name": "stdout",
     "text": [
      "Gurobi Optimizer version 9.1.0 build v9.1.0rc0 (win64)\n",
      "Thread count: 4 physical cores, 8 logical processors, using up to 8 threads\n",
      "Optimize a model with 7 rows, 12 columns and 24 nonzeros\n",
      "Model fingerprint: 0x2fd76783\n",
      "Variable types: 3 continuous, 9 integer (9 binary)\n",
      "Coefficient statistics:\n",
      "  Matrix range     [1e+00, 1e+00]\n",
      "  Objective range  [1e+01, 1e+02]\n",
      "  Bounds range     [1e+00, 1e+00]\n",
      "  RHS range        [1e+00, 1e+00]\n",
      "Presolved: 7 rows, 12 columns, 24 nonzeros\n",
      "\n",
      "Continuing optimization...\n",
      "\n",
      "\n",
      "Explored 0 nodes (4 simplex iterations) in 0.02 seconds\n",
      "Thread count was 8 (of 8 available processors)\n",
      "\n",
      "Solution count 2: 253 193 \n",
      "\n",
      "Optimal solution found (tolerance 1.00e-04)\n",
      "Best objective 2.530000000000e+02, best bound 2.530000000000e+02, gap 0.0000%\n",
      "\n",
      "    Variable            x \n",
      "-------------------------\n",
      "x[Jonas,Cientista]            1 \n",
      "x[Monica,Desenvolvedor]            1 \n",
      "x[Ana, Arquiteto]            1 \n"
     ]
    },
    {
     "output_type": "execute_result",
     "data": {
      "text/plain": [
       "253.0"
      ]
     },
     "metadata": {},
     "execution_count": 37
    }
   ],
   "source": [
    "# Resolvendo o problema\n",
    "m.optimize()\n",
    "\n",
    "# Imprimindo as soluções\n",
    "m.printAttr('x')\n",
    "\n",
    "# Imprimindo o valor da função Objetivo\n",
    "m.objVal"
   ]
  },
  {
   "cell_type": "code",
   "execution_count": 38,
   "metadata": {},
   "outputs": [
    {
     "output_type": "stream",
     "name": "stdout",
     "text": [
      "Warning: variable name \"x[Ana, Cientista]\" has a space\n",
      "Warning: to let Gurobi read it back, use rlp format\n"
     ]
    }
   ],
   "source": [
    "m.write('atribuicao_2.lp')"
   ]
  },
  {
   "cell_type": "code",
   "execution_count": null,
   "metadata": {},
   "outputs": [],
   "source": [
    "#Começanco Algoritmo 1 (Dantzig relaxado)"
   ]
  }
 ]
}