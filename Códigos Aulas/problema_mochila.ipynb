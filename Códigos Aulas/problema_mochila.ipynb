{
 "cells": [
  {
   "cell_type": "code",
   "execution_count": 21,
   "metadata": {},
   "outputs": [],
   "source": [
    "# Importando bibiotecas\n",
    "import gurobipy as gb"
   ]
  },
  {
   "cell_type": "code",
   "execution_count": 22,
   "metadata": {},
   "outputs": [],
   "source": [
    "# Definindo os dados\n",
    "n = 7 #Tamanho da mochila\n",
    "p = [6, 5, 8, 9, 6, 7, 3]  #Matriz de pesos\n",
    "w = [2, 3, 6, 7, 5, 9, 3] #Matriz da capacidade\n",
    "c = 9 #Capacidade total da mochila"
   ]
  },
  {
   "cell_type": "code",
   "execution_count": 23,
   "metadata": {},
   "outputs": [],
   "source": [
    "# Criando o modelo\n",
    "m = gb.Model()"
   ]
  },
  {
   "cell_type": "code",
   "execution_count": 24,
   "metadata": {},
   "outputs": [],
   "source": [
    "# Adicionando variáveis\n",
    "x = m.addVars(n, vtype=GRB.BINARY, name='x')\n",
    "m.update()"
   ]
  },
  {
   "cell_type": "code",
   "execution_count": 26,
   "metadata": {},
   "outputs": [],
   "source": [
    "# Adicionando Restrições\n",
    "m.addConstr((x.prod(w)) <= c, name='mochila')\n",
    "m.update()"
   ]
  },
  {
   "cell_type": "code",
   "execution_count": 28,
   "metadata": {},
   "outputs": [],
   "source": [
    "# Adicionando a função Objetivo\n",
    "m.setObjective(x.prod(p), GRB.MAXIMIZE)\n",
    "m.update()"
   ]
  },
  {
   "cell_type": "code",
   "execution_count": 29,
   "metadata": {},
   "outputs": [
    {
     "name": "stdout",
     "output_type": "stream",
     "text": [
      "Gurobi Optimizer version 9.1.0 build v9.1.0rc0 (win64)\n",
      "Thread count: 4 physical cores, 8 logical processors, using up to 8 threads\n",
      "Optimize a model with 1 rows, 7 columns and 7 nonzeros\n",
      "Model fingerprint: 0x09c1e6d0\n",
      "Variable types: 0 continuous, 7 integer (7 binary)\n",
      "Coefficient statistics:\n",
      "  Matrix range     [2e+00, 9e+00]\n",
      "  Objective range  [3e+00, 9e+00]\n",
      "  Bounds range     [1e+00, 1e+00]\n",
      "  RHS range        [9e+00, 9e+00]\n",
      "Found heuristic solution: objective 14.0000000\n",
      "Presolve removed 1 rows and 7 columns\n",
      "Presolve time: 0.00s\n",
      "Presolve: All rows and columns removed\n",
      "\n",
      "Explored 0 nodes (0 simplex iterations) in 0.01 seconds\n",
      "Thread count was 1 (of 8 available processors)\n",
      "\n",
      "Solution count 2: 15 \n",
      "\n",
      "Optimal solution found (tolerance 1.00e-04)\n",
      "Best objective 1.500000000000e+01, best bound 1.500000000000e+01, gap 0.0000%\n"
     ]
    }
   ],
   "source": [
    "# Resolvendo o problema\n",
    "m.optimize()"
   ]
  },
  {
   "cell_type": "code",
   "execution_count": 30,
   "metadata": {},
   "outputs": [
    {
     "name": "stdout",
     "output_type": "stream",
     "text": [
      "\n",
      "    Variable            x \n",
      "-------------------------\n",
      "        x[0]            1 \n",
      "        x[3]            1 \n"
     ]
    }
   ],
   "source": [
    "# Imprimindo as soluções\n",
    "m.printAttr('x')"
   ]
  },
  {
   "cell_type": "code",
   "execution_count": 32,
   "metadata": {},
   "outputs": [
    {
     "data": {
      "text/plain": [
       "15.0"
      ]
     },
     "execution_count": 32,
     "metadata": {},
     "output_type": "execute_result"
    }
   ],
   "source": [
    "# Imprimindo o valor da função Objetivo\n",
    "m.objVal"
   ]
  },
  {
   "cell_type": "code",
   "execution_count": 37,
   "metadata": {},
   "outputs": [
    {
     "name": "stdout",
     "output_type": "stream",
     "text": [
      "Gurobi Optimizer version 9.1.0 build v9.1.0rc0 (win64)\n",
      "Thread count: 4 physical cores, 8 logical processors, using up to 8 threads\n",
      "Optimize a model with 1 rows, 7 columns and 7 nonzeros\n",
      "Model fingerprint: 0x285a398d\n",
      "Coefficient statistics:\n",
      "  Matrix range     [2e+00, 9e+00]\n",
      "  Objective range  [3e+00, 9e+00]\n",
      "  Bounds range     [1e+00, 1e+00]\n",
      "  RHS range        [9e+00, 9e+00]\n",
      "Presolve time: 0.01s\n",
      "Presolved: 1 rows, 7 columns, 7 nonzeros\n",
      "\n",
      "Iteration    Objective       Primal Inf.    Dual Inf.      Time\n",
      "       0    2.7000000e+01   4.375000e-01   0.000000e+00      0s\n",
      "       1    1.6333333e+01   0.000000e+00   0.000000e+00      0s\n",
      "\n",
      "Solved in 1 iterations and 0.01 seconds\n",
      "Optimal objective  1.633333333e+01\n",
      "\n",
      "    Variable            x \n",
      "-------------------------\n",
      "        x[0]            1 \n",
      "        x[1]            1 \n",
      "        x[2]     0.666667 \n"
     ]
    },
    {
     "data": {
      "text/plain": [
       "16.333333333333332"
      ]
     },
     "execution_count": 37,
     "metadata": {},
     "output_type": "execute_result"
    }
   ],
   "source": [
    "# Criando o modelo2 resolvendo somente a relaxação (resultado da Heuristica)\n",
    "m2 = gb.Model()\n",
    "\n",
    "# Adicionando variáveis\n",
    "x2 = m2.addVars(n, lb=0, ub=1, name='x')\n",
    "m2.update()\n",
    "\n",
    "# Adicionando Restrições\n",
    "m2.addConstr((x2.prod(w)) <= c, name='mochila')\n",
    "m2.update()\n",
    "\n",
    "# Adicionando a função Objetivo\n",
    "m2.setObjective(x2.prod(p), GRB.MAXIMIZE)\n",
    "m2.update()\n",
    "\n",
    "# Resolvendo o problema\n",
    "m2.optimize()\n",
    "\n",
    "# Imprimindo as soluções\n",
    "m2.printAttr('x')\n",
    "\n",
    "# Imprimindo o valor da função Objetivo\n",
    "m2.objVal"
   ]
  },
  {
   "cell_type": "code",
   "execution_count": null,
   "metadata": {},
   "outputs": [],
   "source": []
  }
 ],
 "metadata": {
  "kernelspec": {
   "display_name": "Python 3",
   "language": "python",
   "name": "python3"
  },
  "language_info": {
   "codemirror_mode": {
    "name": "ipython",
    "version": 3
   },
   "file_extension": ".py",
   "mimetype": "text/x-python",
   "name": "python",
   "nbconvert_exporter": "python",
   "pygments_lexer": "ipython3",
   "version": "3.8.3"
  }
 },
 "nbformat": 4,
 "nbformat_minor": 4
}
