{
  "nbformat": 4,
  "nbformat_minor": 0,
  "metadata": {
    "colab": {
      "name": "offshore_wind_farm.ipynb",
      "provenance": []
    },
    "kernelspec": {
      "name": "python3",
      "display_name": "Python 3",
      "language": "python"
    }
  },
  "cells": [
    {
      "cell_type": "markdown",
      "metadata": {
        "id": "f1PkXxDhXC9e"
      },
      "source": [
        "<p><img alt=\"Colaboratory logo\" height=\"150px\" src=\"https://blog-static.infra.grancursosonline.com.br/wp-content/uploads/2015/09/03174643/UFC2.png\" align=\"right\" hspace=\"30px\" vspace=\"0px\"></p>  \n",
        "\n",
        "<h1>\n",
        "<strong> Universidade Federal do Ceará </strong>  <br>\n",
        "Bacheralado em Matemática Industrial  <br>\n",
        "Trabalho 2 - 23/02/2021  <br>\n",
        "Disciplina: Tópicos Avançados Matemática Industrial  <br>\n",
        "Professor: Jesus Ossian  <br>\n",
        "Francisco Yuri Martins Costa - 391379<br>\n",
        "Trabalho: Offshore Wind Farm Problem\n",
        "</h1>"
      ]
    },
    {
      "cell_type": "markdown",
      "metadata": {
        "id": "KcJDYXRuX6Bj"
      },
      "source": [
        "<h3> <strong>Motivação </strong> </h3>"
      ]
    },
    {
      "cell_type": "markdown",
      "metadata": {
        "id": "_oD1OGiyYIpf"
      },
      "source": [
        "A mudança do clima já teve efeitos observáveis no meio ambiente. Os potenciais efeitos da mudança do clima global inclui mais frequência em queimadas de florestas, longo período de secas em algumas regiões e maior número, duração e intensidade de tempestadas tropicais.<br><br>\n",
        "A energia eólica no mar é o uso de parques eólicos construídos em corpos d'água, geralmente no oceano, para coletar energia eólica para gerar eletricidade. Em comaração com a terra, as velocidades do vento mais altas são offshore gerando mais eletricidade por quantidade instalada. <br><br>\n",
        "A vantagem de localizar turbinas eólicas no mar é que o vento é muito mais forte na costa e, ao contrário do vento no continente, as brisas offshore podem ser fortes à tarde, combinando com o horário em que as pessoas estão usando mais eletricidade. As turbinas também podem ser localizadas próximas aos centros de carga ao longo da costa, como grandes cidades, eliminando a necessidade de novas linhas de transmissão de longa distância.\n"
      ]
    },
    {
      "cell_type": "markdown",
      "metadata": {
        "id": "rBvFbMp-ZXDx"
      },
      "source": [
        "<h3> <strong> Descrição do problema </strong> </h3>"
      ]
    },
    {
      "cell_type": "markdown",
      "metadata": {
        "id": "X1FbZ4FgYJEc"
      },
      "source": [
        "A fazenda eólica que está sendo construído na costa oesta da Dinamarca. Existe uma central elétrica na costa onde toda eletricidade deve ser transferida para ser distribuída na rede elétrica. Existem também estações de transferência no parque eólico, onde a energia de várias turbinas pode ser coletada e transferida ao longo de um único cabo até a costa.<br><br>\n",
        "Existem 2 fatores que devemos considerar quando instalamos os cabos. Primeiro, existe um custo fixo para colocar um cabo dentro do fundo do mar. Esse custo é proporcional a distancia entre as 2 estações conectadas ao cabo. Segundo, devemos considerar quanto a corrente fluirá pelos cabos. Conexões que carregam grande corrente precisa de cabos grossos. Cabos grossos são mais caro que que cabos finos.<br><br>\n",
        " Objetivo deste problema de otimização é decidir quais cabos devem ser colocados para conectar a rede de energia do parque eólico com o custo mínimo.\n",
        "\n",
        "O modelo do problema de otimização de parque éolico no mar é uma instancia de um modelo de otimização geral conhecido como fluxo de rede de carga fixa. O problema de fluxo de rede de carfa fixa pode ser aplicado a varios problemas de negócios, por exemplo um plano de comunicação e transporte de redes."
      ]
    },
    {
      "cell_type": "markdown",
      "metadata": {
        "id": "FXIH7kUEaMXJ"
      },
      "source": [
        "<h3> <strong> Abordagem de solução </strong> </h3>"
      ]
    },
    {
      "cell_type": "markdown",
      "metadata": {
        "id": "E-_xBScgYJGt"
      },
      "source": [
        "Programação matemática é uma agordagem declarativa em que o modelador formula um modelo de otimizaçã matemática que captura os principais aspectos de um problema de decisão complexo. O otimizador Gurobi resolve esses modelos usando matemática e ciência de computação de última geração.\n",
        "Um modelo de otimização matemática possui 5 componentes:\n",
        "-conjuntos e indices;\n",
        "\n",
        "1.   Conjuntos e indices;\n",
        "2.   Parametros;\n",
        "3.   Variáveis de decisão;\n",
        "4.   Função(s) Objetivo;\n",
        "5.   Restrições\n",
        "\n",
        "Nós agora apresentamos uma formulação MIP do problema de parque eólico no mar."
      ]
    },
    {
      "cell_type": "markdown",
      "metadata": {
        "id": "gh_7O4LNbDnn"
      },
      "source": [
        "<h3> <strong> Formulação do Modelo </strong> </h3>"
      ]
    },
    {
      "cell_type": "markdown",
      "metadata": {
        "id": "jG-aUE59bD9D"
      },
      "source": [
        "<h4> <strong> Conjuntos e indices </strong> </h4>"
      ]
    },
    {
      "cell_type": "markdown",
      "metadata": {
        "id": "CRbK8b9QYJJA"
      },
      "source": [
        "$G(V,E):$ Grafo que representa a rede do parque eólico, onde $V$ é o conjunto de verticices e $E$ o conjunto de arestas. As turbinas, estações de transferência são os vertices do conjunto $V$ do grafo. Os cabos de potência são as arestas $E$ do grafo."
      ]
    },
    {
      "cell_type": "markdown",
      "metadata": {
        "id": "KFT69WFlc4YC"
      },
      "source": [
        "<h4> <strong> Parâmetros </strong> </h4>"
      ]
    },
    {
      "cell_type": "markdown",
      "metadata": {
        "id": "EiHpgKw7YJLo"
      },
      "source": [
        "$s_i \\in E:$ Energia fornecida no vértice $i \\in V$. Como as turbinas fornecem energia, elas são vértices de origem com $s_{i} >0 $. As estações de transferência não fornecem ou removem energia da rede, então elas têm $ s_ {i} = 0 $. A estação de energia na costa é uma pia que remove toda a energia do parque eólico, por isso tem $ s_ {i} < 0 $.<br><br>\n",
        "$u_{i,j} \\in \\mathbb{R}^+ $: Capacidade de corrente máxima de um cabo do verticie $i \\in V$ para o vértice $j \\in V$. <br><br>\n",
        "$c_{i,j} \\in \\mathbb{R}^+$: Custo por unidade de fluxo de corrente indo do vértice $i \\in V$ para vértice $j \\in V$, i.e. O O preço que devemos pagar para aumentar a espessura do cabo para lidar com um aumento na corrente. <br><br>\n",
        "$f_{i,j} \\in \\mathbb{R}^+$: Custo fixo para colocar um cabo no vértice $i \\in V$ para o vértice $j \\in V$, e o resultado é multiplicado pela distância entre os vértices de custo por milha"
      ]
    },
    {
      "cell_type": "markdown",
      "metadata": {
        "id": "w8myeXDjf8Ds"
      },
      "source": [
        "<h4> <strong> Variáveis de decisão </strong> </h4>"
      ]
    },
    {
      "cell_type": "markdown",
      "metadata": {
        "id": "24vuM4Cdf9wD"
      },
      "source": [
        "$install_{i,j} \\in \\{0, 1 \\}$: Essa variável é igual a 1 se for colocado um cabo do vértice $i \\in V$ para o vértice $j \\in V$; e 0 caso contrário.\n",
        "<br><br>\n",
        "$flow_{i,j} \\geq 0$: Essa variáveis contínua não-negativa representa o total de corrênte no fluxo do vértice $i \\in V$ para o vértice $j \\in V$.\n",
        "<br><br>\n",
        "O objetivo desse modelo de otimização é dicideir quais os potenciais vértices do grafo vamos usar para obter o custo mínimo."
      ]
    },
    {
      "cell_type": "markdown",
      "metadata": {
        "id": "wWBIObrhf8oK"
      },
      "source": [
        "<h4> <strong> Função Objetivo </strong> </h4>"
      ]
    },
    {
      "cell_type": "markdown",
      "metadata": {
        "id": "uDNY_-NDf_FW"
      },
      "source": [
        "Total de custo. Nós queremos minimizar o ottal de custo de cabos instalados. O termo a esquerda é a variável custo (aquela que variam de acordo com o cabo). O termo a direita é o custo fíxo para instalar o cabo. <br>\n",
        "$$\n",
        "\\text{Max} \\quad Z = \\sum_{(i,j) \\in E} c_{i,j} \\cdot flow_{i,j} + \\sum_{(i,j) \\in E} f_{i,j} \\cdot install_{i,j} \n",
        "\\tag{0}\n",
        "$$"
      ]
    },
    {
      "cell_type": "markdown",
      "metadata": {
        "id": "B-9tCCStf87T"
      },
      "source": [
        "<h4> <strong> Restrições </strong> </h4>"
      ]
    },
    {
      "cell_type": "markdown",
      "metadata": {
        "id": "Z7EQw1GmYJN4"
      },
      "source": [
        "**Equilíbrio**. Para cada vértice $i \\in V$, nós queremos garantir a conservação de nossa corrente na corrente.\r\n",
        "$$\r\n",
        "\\sum_{j:(i,j) \\in E} flow_{i,j} - \\sum_{j:(j,i) \\in E} flow_{j,i} = s_{i} \\quad \\forall i \\in V\r\n",
        "\\tag{1}\r\n",
        "$$\r\n",
        "**Capacity**. Para cada aresta $(i,j) \\in E$, nó queremos obritar os limites máximos de corrente de cada cabo\r\n",
        "$$\r\n",
        "0 \\leq flow_{i,j} \\leq u_{i,j} \\cdot install_{i,j}  \\quad \\forall (i,j) \\in E\r\n",
        "\\tag{2}\r\n",
        "$$\r\n"
      ]
    },
    {
      "cell_type": "markdown",
      "metadata": {
        "id": "s88Cqsm3Pjhp"
      },
      "source": [
        "<h4> <strong> Implementação Python </strong> </h4>"
      ]
    },
    {
      "cell_type": "markdown",
      "metadata": {
        "id": "KLp1QcvCQPTT"
      },
      "source": [
        "Nesse exemplo cosiste em três turbinas, uma estação de transferência, e 2 estações de energia. A corrente fluindo em cada vértice da rede de parques eólicos é apresentada na tabela a seguir. Lembre-se de que, como as turbinas fornecem energia, sua capacidade é positiva. As estações de transferência não fornecem ou removem energia da rede, portanto, têm capacidade zero. As usinas do litoral são sumidouros que retiram toda a energia da rede do parque eólico para que tenham demanda de energia, neste caso usamos um número negativo."
      ]
    },
    {
      "cell_type": "markdown",
      "metadata": {
        "id": "O2Qhb_I6QVyQ"
      },
      "source": [
        "| Capacidade | Itens |\r\n",
        "|------------|-------|\r\n",
        "| 1          | 4     |\r\n",
        "| 2          | 3     |\r\n",
        "| 3          | 2     |\r\n",
        "| 4          | 0     |\r\n",
        "| 5          | -6    |\r\n",
        "| 6          | -3    |"
      ]
    },
    {
      "cell_type": "markdown",
      "metadata": {
        "id": "-van2XTeRC4y"
      },
      "source": [
        "A capacidade, o custo do fluxo e o custo fixo de cada aresta da rede do parque eólico são fornecidos na tabela a seguir."
      ]
    },
    {
      "cell_type": "markdown",
      "metadata": {
        "id": "ZLp1dcn9RF1F"
      },
      "source": [
        "|             | Capacity in MW | Flow cost in millions of Euros | Fixed cost in millions of Euros |\r\n",
        "|-------------|----------------|--------------------------------|---------------------------------|\r\n",
        "| Edge: (0,4) | 4              | 1                              | 1                               |\r\n",
        "| Edge: (0,3) | 2              | 1                              | 1                               |\r\n",
        "| Edge: (1,3) | 3              | 1                              | 1                               |\r\n",
        "| Edge: (2,5) | 2              | 1                              | 1                               |\r\n",
        "| Edge: (3,4) | 2              | 1                              | 1                               |\r\n",
        "| Edge: (3,5) | 1              | 1                              | 1                               |"
      ]
    },
    {
      "cell_type": "code",
      "metadata": {
        "colab": {
          "base_uri": "https://localhost:8080/",
          "height": 416
        },
        "id": "WFqVvQKIRKev",
        "outputId": "c42a8fca-e480-4736-f721-90348f09bfc9"
      },
      "source": [
        "import gurobipy as gp\n",
        "from gurobipy import GRB\n",
        "\n",
        "# Parâmetros\n",
        "\n",
        "vertices = {0: 4, 1: 3, 2: 2, 3: 0, 4: -6, 5: -3}\n",
        "edges, cap, flow_cost, fixed_cost = gp.multidict({\n",
        "    (0,4): [4,1,1],\n",
        "    (0,3): [2,1,1],\n",
        "    (1,3): [3,1,1],\n",
        "    (2,5): [2,1,1],\n",
        "    (3,4): [2,1,1],\n",
        "    (3,5): [1,1,1]\n",
        "})"
      ],
      "execution_count": 2,
      "outputs": []
    },
    {
      "cell_type": "code",
      "metadata": {
        "id": "z-kj_5Y5RVu4"
      },
      "source": [
        "# Formulação do modelo MIP\n",
        "\n",
        "m = gp.Model(\"offshore_wind_farming\")\n",
        "\n",
        "# Adicionando variáveis\n",
        "install = m.addVars(edges, vtype=GRB.BINARY, name=\"Install\")\n",
        "flow = m.addVars(edges, vtype=GRB.CONTINUOUS, name=\"Flow\")\n",
        "\n",
        "# Adicionando restrições\n",
        "m.addConstrs((flow.sum(v,'*') - flow.sum('*',v) == supply for v, supply in vertices.items()), name=\"Flow_conservation\")\n",
        "m.addConstrs((flow[e] <= cap[e]*install[e] for e in edges), name=\"Install2flow\")\n",
        "\n",
        "# Set objective\n",
        "m.setObjective(flow.prod(flow_cost) + install.prod(fixed_cost), GRB.MINIMIZE)\n",
        "\n",
        "m.optimize()"
      ],
      "execution_count": 3,
      "outputs": [
        {
          "output_type": "stream",
          "name": "stdout",
          "text": [
            "Using license file C:\\Users\\yuri.martins\\Anaconda3\\lib\\site-packages\\gurobipy\\gurobi.lic\n",
            "Restricted license - for non-production use only - expires 2022-01-13\n",
            "Gurobi Optimizer version 9.1.0 build v9.1.0rc0 (win64)\n",
            "Thread count: 4 physical cores, 8 logical processors, using up to 8 threads\n",
            "Optimize a model with 12 rows, 12 columns and 24 nonzeros\n",
            "Model fingerprint: 0x03b3989f\n",
            "Variable types: 6 continuous, 6 integer (6 binary)\n",
            "Coefficient statistics:\n",
            "  Matrix range     [1e+00, 4e+00]\n",
            "  Objective range  [1e+00, 1e+00]\n",
            "  Bounds range     [1e+00, 1e+00]\n",
            "  RHS range        [2e+00, 6e+00]\n",
            "Presolve removed 12 rows and 12 columns\n",
            "Presolve time: 0.03s\n",
            "Presolve: All rows and columns removed\n",
            "\n",
            "Explored 0 nodes (0 simplex iterations) in 0.05 seconds\n",
            "Thread count was 1 (of 8 available processors)\n",
            "\n",
            "Solution count 1: 17 \n",
            "\n",
            "Optimal solution found (tolerance 1.00e-04)\n",
            "Best objective 1.700000000000e+01, best bound 1.700000000000e+01, gap 0.0000%\n"
          ]
        }
      ]
    },
    {
      "source": [
        "<h4> <strong> Analise </strong> </h4>"
      ],
      "cell_type": "markdown",
      "metadata": {}
    },
    {
      "source": [
        "O resultado do modelo de otimização mostra que o valor custo mínimo total é 17 milhhoes de Euros. Vamovs ver a solução que alcaça a solução ótima.  "
      ],
      "cell_type": "markdown",
      "metadata": {}
    },
    {
      "cell_type": "code",
      "execution_count": 5,
      "metadata": {},
      "outputs": [
        {
          "output_type": "stream",
          "name": "stdout",
          "text": [
            "Instala cabo da localizacao 1 para 5 no fluxo da fazenda eólica offshore\nInstala cabo da localizacao 2 para 4 no fluxo da fazenda eólica offshore\nInstala cabo da localizacao 3 para 6 no fluxo da fazenda eólica offshore\nInstala cabo da localizacao 4 para 5 no fluxo da fazenda eólica offshore\nInstala cabo da localizacao 4 para 6 no fluxo da fazenda eólica offshore\n"
          ]
        }
      ],
      "source": [
        "# exibir cada aresta da fazenda eólica offshore  que planejamos instalar\n",
        "for origin, end in install.keys():\n",
        "    if (abs(install[origin, end].x) > 0.5):\n",
        "        print(f\"Instala cabo da localizacao {origin + 1} para {end + 1} no fluxo da fazenda eólica offshore\")"
      ]
    },
    {
      "cell_type": "code",
      "execution_count": 6,
      "metadata": {},
      "outputs": [
        {
          "output_type": "stream",
          "name": "stdout",
          "text": [
            "A capacidade do cabo instalado da localização 1 para 5 é 4.0 MW \nA capacidade do cabo instalado da localização 2 para 4 é 3.0 MW \nA capacidade do cabo instalado da localização 3 para 6 é 2.0 MW \nA capacidade do cabo instalado da localização 4 para 5 é 2.0 MW \nA capacidade do cabo instalado da localização 4 para 6 é 1.0 MW \n"
          ]
        }
      ],
      "source": [
        "# Capacidade corrente do fluxo de cada cabo instalado\n",
        "\n",
        "for origin, end in flow.keys():\n",
        "    if (abs(flow[origin, end].x) > 1e-6):\n",
        "         print(f\"A capacidade do cabo instalado da localização {origin + 1} para {end + 1} é {flow[origin, end].x} MW \")"
      ]
    },
    {
      "cell_type": "code",
      "execution_count": null,
      "metadata": {},
      "outputs": [],
      "source": []
    }
  ]
}